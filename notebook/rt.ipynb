{
 "cells": [
  {
   "cell_type": "code",
   "execution_count": null,
   "metadata": {
    "collapsed": true
   },
   "outputs": [],
   "source": [
    "import pyvisa\n",
    "import time\n",
    "import matplotlib.pyplot as plt\n",
    "rm = pyvisa.ResourceManager()\n",
    "visa_list = rm.list_resources()\n",
    "print(visa_list)"
   ]
  },
  {
   "cell_type": "code",
   "execution_count": null,
   "metadata": {
    "collapsed": true
   },
   "outputs": [],
   "source": [
    "k2636a = rm.open_resource('GPIB0::26::INSTR')\n",
    "tc = rm.open_resource('GPIB0::4::INSTR')\n",
    "mag = rm.open_resource('GPIB0::3::INSTR')"
   ]
  },
  {
   "cell_type": "code",
   "execution_count": null,
   "metadata": {},
   "outputs": [],
   "source": [
    "float(tc.query('KRDG? A'))"
   ]
  },
  {
   "cell_type": "code",
   "execution_count": null,
   "metadata": {
    "collapsed": true
   },
   "outputs": [],
   "source": [
    "\"\"\"\n",
    "k2636a.write(\"smua.source.func = smua.OUTPUT_DCAMPS\")\n",
    "k2636a.write(\"smua.source.limitv = 5\")\n",
    "k2636a.write(\"smua.source.leveli = 100e-6\")\n",
    "k2636a.write(\"smua.source.autorangei = smua.AUTORANGE_ON\")\n",
    "k2636a.write(\"smub.measure.rangev = 2\")\n",
    "\"\"\""
   ]
  },
  {
   "cell_type": "code",
   "execution_count": null,
   "metadata": {},
   "outputs": [],
   "source": [
    "k2636a.write(\"smub.measure.rangev = 0.2\")\n",
    "k2636a.write(\"smub.source.func = smub.OUTPUT_DCAMPS\")\n",
    "k2636a.write(\"smub.source.rangei = 1e-9\")\n",
    "k2636a.write(\"smub.source.leveli = 0\")\n",
    "k2636a.write(\"smub.measure.nplc = 3\")"
   ]
  },
  {
   "cell_type": "code",
   "execution_count": null,
   "metadata": {},
   "outputs": [],
   "source": [
    "k2636a.write(\"smua.measure.rangev = 0.2\")\n",
    "k2636a.write(\"smua.source.func = smub.OUTPUT_DCAMPS\")\n",
    "\n",
    "# measure V\n",
    "k2636a.write(\"smua.source.rangei = 1e-9\")\n",
    "k2636a.write(\"smua.source.leveli = 0\")\n",
    "\n",
    "k2636a.write(\"smub.measure.nplc = 1\")"
   ]
  },
  {
   "cell_type": "code",
   "execution_count": null,
   "metadata": {},
   "outputs": [],
   "source": [
    "k2636a.write(\"smua.source.output = smua.OUTPUT_ON\")\n",
    "k2636a.write(\"smub.source.output = smub.OUTPUT_ON\")"
   ]
  },
  {
   "cell_type": "code",
   "execution_count": null,
   "metadata": {},
   "outputs": [],
   "source": [
    "import numpy as np"
   ]
  },
  {
   "cell_type": "code",
   "execution_count": null,
   "metadata": {},
   "outputs": [],
   "source": [
    "with open(\"rt.txt\",\"w\") as f:\n",
    "    f.write(\"Temperature (K), B_Voltage (V), A_Voltage (V)\\n\")"
   ]
  },
  {
   "cell_type": "code",
   "execution_count": null,
   "metadata": {},
   "outputs": [],
   "source": [
    "k2636a.write(\"smua.source.output = smua.OUTPUT_OFF\")\n",
    "k2636a.write(\"smub.source.output = smub.OUTPUT_OFF\")"
   ]
  },
  {
   "cell_type": "code",
   "execution_count": null,
   "metadata": {},
   "outputs": [],
   "source": [
    "k2636a.write(\"smua.source.output = smua.OUTPUT_ON\")\n",
    "time.sleep(2)\n",
    "k2636a.write(\"smub.source.output = smub.OUTPUT_ON\")\n",
    "while True:\n",
    "    i = 1\n",
    "    t = float(tc.query('KRDG? A'))\n",
    "    vb = float(k2636a.query(\"print(smub.measure.v())\"))\n",
    "    va = float(k2636a.query(\"print(smua.measure.v())\"))\n",
    "    with open(\"rt.txt\",\"a\") as f:\n",
    "        f.write(f\"{t}, {vb}, {va}\\n\")\n",
    "    time.sleep(20)\n",
    "    if t <5.:\n",
    "        break"
   ]
  },
  {
   "cell_type": "code",
   "execution_count": null,
   "metadata": {},
   "outputs": [],
   "source": [
    "import numpy as np"
   ]
  },
  {
   "cell_type": "code",
   "execution_count": null,
   "metadata": {},
   "outputs": [],
   "source": [
    "h = np.arange(10, -10, -0.2)\n",
    "hl = np.concatenate((h, -h), axis=0)\n",
    "hi = (h * 3200).round().astype(np.int16)\n",
    "hil= np.concatenate((hi, -hi), axis=0)\n",
    "print(hil.shape)"
   ]
  },
  {
   "cell_type": "code",
   "execution_count": null,
   "metadata": {},
   "outputs": [],
   "source": [
    "k2636a.write(\"smub.reset()\")\n",
    "k2636a.write(\"smub.source.func = smub.OUTPUT_DCAMPS\")\n",
    "k2636a.write(\"smub.source.leveli = 0\")\n",
    "k2636a.write(\"smub.measure.autorangev = smub.AUTORANGE_ON\")"
   ]
  },
  {
   "cell_type": "code",
   "execution_count": null,
   "metadata": {},
   "outputs": [],
   "source": [
    "# 2-wire + 4-wire MR or HR measurement\n",
    "with open(\"mr.txt\",\"w\") as f:\n",
    "    f.write(\"magnetic field(kG), B_Voltage (V), A_Voltage (V)\\n\")\n",
    "mag.write(\"A1D32000\")\n",
    "k2636a.write(\"smua.source.output = smua.OUTPUT_ON\")\n",
    "k2636a.write(\"smub.source.output = smub.OUTPUT_ON\")\n",
    "time.sleep(5)\n",
    "for h, i in zip(hil, hl):\n",
    "    mag.write(\"A1D\" + str(h))\n",
    "    time.sleep(1.5)\n",
    "    vb = float(k2636a.query(\"print(smub.measure.v())\"))\n",
    "    va = float(k2636a.query(\"print(smua.measure.v())\"))\n",
    "    with open(\"mr.txt\",\"a\") as f:\n",
    "        f.write(f\"{i}, {vb}, {va}\\n\")\n",
    "mag.write(\"A1D0\")\n",
    "k2636a.write(\"smua.source.output = smua.OUTPUT_OFF\")\n",
    "k2636a.write(\"smub.source.output = smub.OUTPUT_OFF\")"
   ]
  },
  {
   "cell_type": "code",
   "execution_count": null,
   "metadata": {},
   "outputs": [],
   "source": [
    "# MR and HR measurement\n",
    "filename = \"H1668_outofplane_50ua_171K.txt\"\n",
    "with open(filename,\"w\") as f:\n",
    "    f.write(\"magnetic field(kG), MR (V), HR (V)\\n\")\n",
    "mag.write(\"A1D32000\")\n",
    "k2636a.write(\"smua.source.output = smua.OUTPUT_ON\")\n",
    "k2636a.write(\"smub.source.output = smub.OUTPUT_ON\")\n",
    "time.sleep(5)\n",
    "for h, i in zip(hil, hl):\n",
    "    mag.write(\"A1D\" + str(h))\n",
    "    time.sleep(1)\n",
    "    vb = float(k2636a.query(\"print(smub.measure.v())\"))\n",
    "    va = float(k2636a.query(\"print(smua.measure.v())\"))\n",
    "    with open(filename,\"a\") as f:\n",
    "        f.write(f\"{i}, {vb}, {va}\\n\")\n",
    "mag.write(\"A1D0\")\n",
    "k2636a.write(\"smua.source.output = smua.OUTPUT_OFF\")\n",
    "k2636a.write(\"smub.source.output = smub.OUTPUT_OFF\")"
   ]
  },
  {
   "cell_type": "code",
   "execution_count": null,
   "metadata": {},
   "outputs": [],
   "source": [
    "filename = \"H1668_outofplane_40ua.txt\"\n",
    "mr = np.loadtxt(filename, delimiter=\",\", skiprows=1).T\n",
    "plt.plot(mr[0], mr[2])\n",
    "plt.show()"
   ]
  },
  {
   "cell_type": "code",
   "execution_count": null,
   "metadata": {},
   "outputs": [],
   "source": []
  }
 ],
 "metadata": {
  "kernelspec": {
   "display_name": "Python 3.10.10 64-bit (microsoft store)",
   "language": "python",
   "name": "python3"
  },
  "language_info": {
   "codemirror_mode": {
    "name": "ipython",
    "version": 3
   },
   "file_extension": ".py",
   "mimetype": "text/x-python",
   "name": "python",
   "nbconvert_exporter": "python",
   "pygments_lexer": "ipython3",
   "version": "3.10.10"
  },
  "vscode": {
   "interpreter": {
    "hash": "316d420c622d9c547197ed181b9b331c6dc695abf58eca16e86dd06507c39a7a"
   }
  }
 },
 "nbformat": 4,
 "nbformat_minor": 2
}
